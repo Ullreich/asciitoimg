{
 "cells": [
  {
   "cell_type": "markdown",
   "id": "1a4762e9-af9f-4887-9c43-a888164ddd03",
   "metadata": {},
   "source": [
    "### Import stuff"
   ]
  },
  {
   "cell_type": "code",
   "execution_count": 26,
   "id": "46db97cd-d88c-4fd6-b9ba-148779a7ad99",
   "metadata": {},
   "outputs": [],
   "source": [
    "import os\n",
    "import numpy as np\n",
    "import pandas as pd\n",
    "from torchvision.io import read_image\n",
    "from torch.utils.data import Dataset\n",
    "from torch.utils.data import DataLoader\n",
    "from torchvision.transforms import ToTensor\n",
    "import matplotlib.pyplot as plt"
   ]
  },
  {
   "cell_type": "markdown",
   "id": "fea80009-40ce-4623-a5ff-f49a9bc30696",
   "metadata": {},
   "source": [
    "### Write a custom Dataloader"
   ]
  },
  {
   "cell_type": "code",
   "execution_count": 27,
   "id": "5a90717f-7f67-456b-b416-10f9dca86461",
   "metadata": {},
   "outputs": [],
   "source": [
    "def to_int(x):\n",
    "    if (not type(x) is str and (x==None or np.isnan(x))):\n",
    "        return 32;\n",
    "    return ord(x)\n",
    "\n",
    "class AsciiToDataset(Dataset):\n",
    "    def __init__(self, annotations_file, img_dir, transform=None, target_transform=None, height=40, width=80):\n",
    "        self.img_labels = pd.read_csv(annotations_file)\n",
    "        self.img_dir = img_dir\n",
    "        self.transform = transform\n",
    "        self.target_transform = target_transform\n",
    "        self.height = height\n",
    "        self.width = width\n",
    "        \n",
    "    def __len__(self):\n",
    "        return len(self.img_labels)\n",
    "\n",
    "\n",
    "    def __getitem__(self, idx):\n",
    "        img_path = os.path.join(self.img_dir, self.img_labels.iloc[idx, 0])\n",
    "\n",
    "        # create empty array\n",
    "        arr = np.zeros([40,80], dtype=\"int\")\n",
    "\n",
    "        # indexes\n",
    "        i, j = 0, 0\n",
    "\n",
    "        # iterate through txt file and convert\n",
    "        with open(img_path) as f:\n",
    "            for line in f.readlines():\n",
    "                for ch in line: \n",
    "                    if not (ch == \"\\n\"):# leave out newline char\n",
    "                        arr[j][i] = to_int(ch)\n",
    "                    i += 1\n",
    "                j += 1\n",
    "                i = 0\n",
    "        \n",
    "        label = self.img_labels.iloc[idx, 1]\n",
    "        return arr, label"
   ]
  },
  {
   "cell_type": "markdown",
   "id": "93a909d8-0964-4b28-adf5-183307347a25",
   "metadata": {},
   "source": [
    "### test dataset"
   ]
  },
  {
   "cell_type": "code",
   "execution_count": 28,
   "id": "26d9b79c-4bf5-4389-a868-ca061f034041",
   "metadata": {
    "scrolled": true
   },
   "outputs": [],
   "source": [
    "annotation_file = \"dataset/ascii.csv\"\n",
    "img_dir = \"dataset/w80_h40_ascii\"\n",
    "\n",
    "test_dataset = AsciiToDataset(annotation_file, img_dir)\n",
    "test_dataloader = DataLoader(test_dataset, batch_size=64, shuffle=False) #shuffle=false to debug\n",
    "\n",
    "train_features, train_labels = next(iter(test_dataloader))"
   ]
  },
  {
   "cell_type": "code",
   "execution_count": 29,
   "id": "5ec67882-1135-459b-bc89-601b0f522e71",
   "metadata": {},
   "outputs": [
    {
     "name": "stdout",
     "output_type": "stream",
     "text": [
      "torch.Size([40, 80])\n",
      "tensor([[64, 64, 64,  ..., 64, 64, 64],\n",
      "        [64, 64, 64,  ..., 64, 64, 64],\n",
      "        [64, 64, 64,  ..., 64, 64, 64],\n",
      "        ...,\n",
      "        [64, 64, 64,  ..., 64, 64, 64],\n",
      "        [64, 64, 64,  ..., 64, 64, 64],\n",
      "        [64, 64, 64,  ..., 64, 64, 64]])\n"
     ]
    }
   ],
   "source": [
    "print(train_features[0].shape)\n",
    "print(train_features[0])"
   ]
  },
  {
   "cell_type": "markdown",
   "id": "4d64d649-7920-4523-b282-4cf575dd353c",
   "metadata": {},
   "source": [
    "### Sanity checks"
   ]
  },
  {
   "cell_type": "code",
   "execution_count": 30,
   "id": "36d24231-2110-49c5-aea3-d0d8380ecf92",
   "metadata": {},
   "outputs": [
    {
     "data": {
      "text/plain": [
       "['@@@@@@@@@@@@@@@@@@@@@@@@@@@@@@@@@@@@@@@@@@@@@@@@@@@@@@@@@@@@@@@@@@@@@@@@@@@@@@@@\\n',\n",
       " '@@@@@@@@@@@@@@@@@@@@@@@@@@@@@@@@@@@@@@@@@@@@@@@@@@@@@@@@@@@@@@@@@@@@@@@@@@@@@@@@\\n',\n",
       " '@@@@@@@@@@@@@@@@@@@@@@@@@@@@@@@@@@@@@@@@@@@@@@@@@@@@@@@@@@@@@@@@@@@@@@@@@@@@@@@@\\n',\n",
       " '@@@@@@@@@@@@@@@@@@@@@#%%%@@@@@@@@@@@@@@@@@@@@@@@@@@@@@@@@@@@@@@@@@@@@@@@@@@@@@@@\\n',\n",
       " '@@@@@@@@@@@@@@@@@@@#=====*@@@@@@@@@@@@@@@@@@@@@@@@@@@@@@@@@@@@@@@@@@@@@@@@@@@@@@\\n',\n",
       " '@@@@@@@@@@@@@@@@@@#---::-+#@@@@@@@@@@@@@@@@@@@@@@@@@@@*-:+@@@@@@@@@@@@@@@@@@@@@@\\n',\n",
       " '@@@@@@@@@@@@@@@@@%=---::::.-+@@@@@@@@@@@@@@@@@@@@@@@#.     .+@@@@@@@@@@@@@@@@@@@\\n',\n",
       " '@@@@@@@@@@@@@@@@@##=::::--...-*@@@@@@@@@@@@@@@@@@@@%         :*@@@@@@@@@@@@@@@@@\\n',\n",
       " '@@@@@@@@@@@@@@@@@@@+::..::.....=@@@@@@@@@@@@@@@@@@@=           +@@@@@@@@@@@@@@@@\\n',\n",
       " '@@@@@@@@@@@@@@@@@@@%+=+-........+@@@@@@@@@@@@@@@@@@. .....      #@@@@@@@@@@@@@@@\\n',\n",
       " '@@@@@@@@@@@@@@@@@@@@@@@-     ....#@@@@@@@@@@@@@@@@%..:::::.. .  *@@@@@@@@@@@@@@@\\n',\n",
       " '@@@@@@@@@@@@@@@@@@@@@@%.    ....::#@@@@@@@@@@@@@@@#--=--:::....:@@@@@@@@@@@@@@@@\\n',\n",
       " '@@@@@@@@@@@@@@@@@@@@@@%    .. ....:+@@@@@@@@@@@@@#--===::....  .%@@@@@@@@@@@@@@@\\n',\n",
       " '@@@@@@@@@@@@@@@@@@@@@@*.. .  ....:::=*%@@%@@@@%#+-:-:::..... ..-@@@@@@@@@@@@@@@@\\n',\n",
       " '@@@@@@@@@@@@@@@@@@@@@@+:::.......:-+**#%#######*+=:.....::...::.#@@@@@@@@@@@@@@@\\n',\n",
       " '@@@@@@@@@@@@@@@@@@@@@#-::-:.......:*##*++=+++*++++--::::.::::.: *@@@@@@@@@@@@@@@\\n',\n",
       " '@@@@@@@@@@@@@@@@@@@@@=-----:.:.-==++++=-=-======-:-===:.  .:..::#@@@@@@@@@@@@@@@\\n',\n",
       " '@@@@@@@@@@@@@@@@@@@@@=----==+++*++==+=--===--==--::--:::::::..-#@@@@@@@@@@@@@@@@\\n',\n",
       " '@@@@@@@@@@@@@@@@@@@@%+-:--=+*****+====-:--------:-::-=-+-:--::+@@@@@@@@@@@@@@@@@\\n',\n",
       " '@@@@@@@@@@@@@@@@@@@@#*-:--=+**++*+===-::---:::::--:-===-:--:.:#@@@@@@@@@@@@@@@@@\\n',\n",
       " '@@@@@@@@@@@@@@@@@@@@#-.:---=++====+++=--::::::.::-=+==-:-:.:=%@@@@@@@@@@@@@@@@@@\\n',\n",
       " '@@@@@@@@@@@@@@@@@@@@#: .:--==========++=-::::::-===+++++==-:#@@@@@@@@@@@@@@@@@@@\\n',\n",
       " '@@@@@@@@@@@@@@@@@@@@@+..---======----===++==========+++*****%@@@@@@@@@@@@@@@@@@@\\n',\n",
       " '@@@@@@@@@@@@@@@@@@@@@%-..-----------------++===--=+==++++**+%@@@@@@@@@@@@@@@@@@@\\n',\n",
       " '@@@@@@@@@@@@@@@@@@@@@@@+. ::::::--------=--++===-=--====++*#%@@@@@@@@@@@@@@@@@@@\\n',\n",
       " '@@@@@@@@@@@@@@@@@@@@@@@@%=:-::::---------==========---==++*#@@@@@@@@@@@@@@@@@@@@\\n',\n",
       " '@@@@@@@@@@@@@@@@@@@@@@@@@@@@%+-::::----=--=======+-:----==*@@@@@@@@@@@@@@@@@@@@@\\n',\n",
       " '@@@@@@@@@@@@@@@@@@@@@@@@@@@@@@@%+-:------=--====+===--::=#@@@@@@@@@@@@@@@@@@@@@@\\n',\n",
       " '@@@@@@@@@@@@@@@@@@@@@@@@@@@@@@@@@@#-:-------===+==-:--=+#@@@@@@@@@@@@@@@@@@@@@@@\\n',\n",
       " '@@@@@@@@@@@@@@@@@@@@@@@@@@@@@@@@@@@@*-:-------====--+#@@@@@@@@@@@@@@@@@@@@@@@@@@\\n',\n",
       " '@@@@@@@@@@@@@@@@@@@@@@@@@@@@@@@@@@@@@*=----::+==@@@@@@@@@@@@@@@@@@@@@@@@@@@@@@@@\\n',\n",
       " '@@@@@@@@@@@@@@@@@@@@@@@@@@@@@@@@@@@@@@@%+--*%@==@@@@@@@@@@@@@@@@@@@@@@@@@@@@@@@@\\n',\n",
       " '@@@@@@@@@@@@@@@@@@@@@@@@@@@@@@@@@@@@@@@@%*%@@%=+#%%@@@@@@@@@@@@@@@@@@@@@@@@@@@@@\\n',\n",
       " '@@@@@@@@@@@@@@@@@@@@@@@@@@@@@@@@@@@@@@@@*#@@%*++*@@@@@@@@@@@@@@@@@@@@@@@@@@@@@@@\\n',\n",
       " '@@@@@@@@@@@@@@@@@@@@@@@@@@@@@@@@@@@@@@@%%@%#*#%%#%@@@@@@@@@@@@@@@@@@@@@@@@@@@@@@\\n',\n",
       " '@@@@@@@@@@@@@@@@@@@@@@@@@@@@@@@@@@%@@@***##%@@@@@%@@@@@@@@@@@@@@@@@@@@@@@@@@@@@@\\n',\n",
       " '@@@@@@@@@@@@@@@@@@@@@@@@@@@@@@%#***##*#%##%@@@@@@@@@@@@@@@@@@@@@@@@@@@@@@@@@@@@@\\n',\n",
       " '@@@@@@@@@@@@@@@@@@@@@@@@@@@@@@@@@@@@@%@@@@@@@@@@@@@@@@@@@@@@@@@@@@@@@@@@@@@@@@@@\\n',\n",
       " '@@@@@@@@@@@@@@@@@@@@@@@@@@@@@@@@@@@@@@@@@@@@@@@@@@@@@@@@@@@@@@@@@@@@@@@@@@@@@@@@\\n',\n",
       " '@@@@@@@@@@@@@@@@@@@@@@@@@@@@@@@@@@@@@@@@@@@@@@@@@@@@@@@@@@@@@@@@@@@@@@@@@@@@@@@@']"
      ]
     },
     "execution_count": 30,
     "metadata": {},
     "output_type": "execute_result"
    }
   ],
   "source": [
    "img_dir = \"dataset/w80_h40_ascii/109-ascii-art.txt\"\n",
    "\n",
    "with open(img_dir) as f:\n",
    "    lines = f.readlines()\n",
    "lines"
   ]
  }
 ],
 "metadata": {
  "kernelspec": {
   "display_name": "Python 3 (ipykernel)",
   "language": "python",
   "name": "python3"
  },
  "language_info": {
   "codemirror_mode": {
    "name": "ipython",
    "version": 3
   },
   "file_extension": ".py",
   "mimetype": "text/x-python",
   "name": "python",
   "nbconvert_exporter": "python",
   "pygments_lexer": "ipython3",
   "version": "3.12.2"
  }
 },
 "nbformat": 4,
 "nbformat_minor": 5
}
