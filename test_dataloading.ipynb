{
 "cells": [
  {
   "cell_type": "markdown",
   "id": "1a4762e9-af9f-4887-9c43-a888164ddd03",
   "metadata": {},
   "source": [
    "### Import stuff"
   ]
  },
  {
   "cell_type": "code",
   "execution_count": null,
   "id": "46db97cd-d88c-4fd6-b9ba-148779a7ad99",
   "metadata": {},
   "outputs": [],
   "source": [
    "import os\n",
    "import numpy as np\n",
    "import pandas as pd\n",
    "from torchvision.io import read_image\n",
    "from torch.utils.data import Dataset\n",
    "from torch.utils.data import DataLoader\n",
    "from torchvision.transforms import ToTensor\n",
    "import matplotlib.pyplot as plt"
   ]
  },
  {
   "cell_type": "markdown",
   "id": "fea80009-40ce-4623-a5ff-f49a9bc30696",
   "metadata": {},
   "source": [
    "### Write a custom Dataloader"
   ]
  },
  {
   "cell_type": "code",
   "execution_count": null,
   "id": "5a90717f-7f67-456b-b416-10f9dca86461",
   "metadata": {},
   "outputs": [],
   "source": [
    "# make a dictionary of possible values to normalize to\n",
    "val_arr = [chr(32), chr(35), chr(37), chr(42), chr(43), chr(45), chr(46), chr(58), chr(61), chr(64)]\n",
    "lin = np.linspace(-1, 1, num=10)\n",
    "\n",
    "norm_dic = {}\n",
    "for k, lin in zip(val_arr, lin):\n",
    "    norm_dic[k] = lin\n",
    "norm_dic\n",
    "\n",
    "def to_number(x, normalize=True):\n",
    "    if normalize:\n",
    "        if (not type(x) is str and (x==None or np.isnan(x))):\n",
    "            return -1.;\n",
    "        return norm_dic[x]\n",
    "        \n",
    "    else:\n",
    "        if (not type(x) is str and (x==None or np.isnan(x))):\n",
    "            return 32;\n",
    "        return ord(x)\n",
    "\n",
    "class AsciiToDataset(Dataset):\n",
    "    def __init__(self, annotations_file, img_dir, transform=None, target_transform=None, height=40, width=80):\n",
    "        self.img_labels = pd.read_csv(annotations_file)\n",
    "        self.img_dir = img_dir\n",
    "        self.transform = transform\n",
    "        self.target_transform = target_transform\n",
    "        self.height = height\n",
    "        self.width = width\n",
    "        \n",
    "    def __len__(self):\n",
    "        return len(self.img_labels)\n",
    "\n",
    "\n",
    "    def __getitem__(self, idx, normalize=True):\n",
    "        img_path = os.path.join(self.img_dir, self.img_labels.iloc[idx, 0])\n",
    "\n",
    "        # create empty array\n",
    "        if normalize:\n",
    "            arr = np.zeros([40,80], dtype=\"float\")\n",
    "        else:\n",
    "            arr = np.zeros([40,80], dtype=\"int\")\n",
    "\n",
    "        # indexes\n",
    "        i, j = 0, 0\n",
    "\n",
    "        # iterate through txt file and convert\n",
    "        with open(img_path) as f:\n",
    "            for line in f.readlines():\n",
    "                for ch in line: \n",
    "                    if not (ch == \"\\n\"):# leave out newline char\n",
    "                        arr[j][i] = to_number(ch, normalize)\n",
    "                    i += 1\n",
    "                j += 1\n",
    "                i = 0\n",
    "        \n",
    "        label = self.img_labels.iloc[idx, 1]\n",
    "        return arr, label"
   ]
  },
  {
   "cell_type": "markdown",
   "id": "93a909d8-0964-4b28-adf5-183307347a25",
   "metadata": {},
   "source": [
    "### test dataset"
   ]
  },
  {
   "cell_type": "code",
   "execution_count": null,
   "id": "26d9b79c-4bf5-4389-a868-ca061f034041",
   "metadata": {
    "scrolled": true
   },
   "outputs": [],
   "source": [
    "annotation_file = \"dataset/ascii.csv\"\n",
    "img_dir = \"dataset/w80_h40_ascii\"\n",
    "\n",
    "test_dataset = AsciiToDataset(annotation_file, img_dir)\n",
    "test_dataloader = DataLoader(test_dataset, batch_size=64, shuffle=False) #shuffle=false to debug\n",
    "\n",
    "train_features, train_labels = next(iter(test_dataloader))"
   ]
  },
  {
   "cell_type": "code",
   "execution_count": null,
   "id": "5ec67882-1135-459b-bc89-601b0f522e71",
   "metadata": {},
   "outputs": [],
   "source": [
    "print(train_features[0].shape)\n",
    "print(train_features[9, 0])"
   ]
  },
  {
   "cell_type": "markdown",
   "id": "4d64d649-7920-4523-b282-4cf575dd353c",
   "metadata": {},
   "source": [
    "### Sanity checks"
   ]
  },
  {
   "cell_type": "code",
   "execution_count": null,
   "id": "36d24231-2110-49c5-aea3-d0d8380ecf92",
   "metadata": {},
   "outputs": [],
   "source": [
    "img_dir = \"dataset/w80_h40_ascii/109-ascii-art.txt\"\n",
    "\n",
    "with open(img_dir) as f:\n",
    "    lines = f.readlines()\n",
    "lines"
   ]
  },
  {
   "cell_type": "code",
   "execution_count": null,
   "id": "d5802b7a-3ec8-4d28-9b92-cad6fbd816b6",
   "metadata": {},
   "outputs": [],
   "source": []
  },
  {
   "cell_type": "markdown",
   "id": "c6feba9c-ea7a-42e7-91b7-bbdafbe32fea",
   "metadata": {},
   "source": [
    "### Data Analysis"
   ]
  },
  {
   "cell_type": "code",
   "execution_count": null,
   "id": "f2cafe86-9967-4cc2-9a9d-be5c9eaa49f3",
   "metadata": {},
   "outputs": [],
   "source": [
    "def to_int(x):\n",
    "    if (not type(x) is str and (x==None or np.isnan(x))):\n",
    "        return 32;\n",
    "    return ord(x)\n",
    "\n",
    "\n",
    "def txt_to_numpy(img_path):\n",
    "    # create empty array\n",
    "    arr = np.zeros([40,80], dtype=\"int\")\n",
    "    \n",
    "    # indexes\n",
    "    i, j = 0, 0\n",
    "    \n",
    "    # iterate through txt file and convert\n",
    "    with open(img_path) as f:\n",
    "        for line in f.readlines():\n",
    "            for ch in line: \n",
    "                if not (ch == \"\\n\"):# leave out newline char\n",
    "                    arr[j][i] = to_int(ch)\n",
    "                i += 1\n",
    "            j += 1\n",
    "            i = 0\n",
    "    \n",
    "    return arr"
   ]
  },
  {
   "cell_type": "code",
   "execution_count": null,
   "id": "db03f096-baf5-480c-b6a4-24384fa6d8e3",
   "metadata": {},
   "outputs": [],
   "source": [
    "# contains 25840 images\n",
    "\n",
    "img_dir = \"dataset/w80_h40_ascii\"\n",
    "\n",
    "\n",
    "count = 0\n",
    "occurances = {} \n",
    "\n",
    "for animal in os.listdir(img_dir):\n",
    "    filepath = os.path.join(img_dir, animal)\n",
    "    if (os.path.isfile(filepath)):\n",
    "        count += 1\n",
    "        arr = txt_to_numpy(filepath)\n",
    "        unique, counts = np.unique(arr, return_counts=True)\n",
    "        dic = dict(zip(unique, counts))\n",
    "        for key, value in dic.items():    \n",
    "            try:\n",
    "                occurances[key] += value\n",
    "            except (KeyError):\n",
    "                occurances[key] = value\n",
    "\n",
    "count\n",
    "occurances"
   ]
  },
  {
   "cell_type": "markdown",
   "id": "c13d8ada-6b61-46aa-9cc3-de46b3579efd",
   "metadata": {},
   "source": [
    "### Occurances of different ascii chars in all images\n",
    "\n",
    "```\n",
    "{32: 4541142,  = space\n",
    " 35: 7109820,  = #\n",
    " 37: 5135616,  = %\n",
    " 42: 9916954,  = *\n",
    " 43: 11377591, = +\n",
    " 45: 10650962, = -\n",
    " 46: 6516918,  = .\n",
    " 58: 9094245,  = :\n",
    " 61: 12265363, = =\n",
    " 64: 6079389}  = @\n",
    "```"
   ]
  },
  {
   "cell_type": "markdown",
   "id": "21524614-26ed-48d6-876d-788e8039a55f",
   "metadata": {},
   "source": [
    "### plot data"
   ]
  },
  {
   "cell_type": "code",
   "execution_count": null,
   "id": "9a8e84c8-55b1-4006-a963-8cdf0d222dff",
   "metadata": {},
   "outputs": [],
   "source": [
    "dic = {32: 4541142,\n",
    " 35: 7109820,\n",
    " 37: 5135616,\n",
    " 42: 9916954,\n",
    " 43: 11377591,\n",
    " 45: 10650962,\n",
    " 46: 6516918,\n",
    " 58: 9094245,\n",
    " 61: 12265363,\n",
    " 64: 6079389}\n",
    "\n",
    "number_of_pics = 25840\n",
    "sum_of_chars = 82688000 # = num_of_pics*40*80\n",
    "\n",
    "dic = {x: 0 for x in range(32, 64)} | dic\n",
    "xtick = {x: 0 for x in range(32, 64)} | dic\n",
    "\n",
    "plt.bar(range(len(dic)), list(dic.values()))\n",
    "plt.xticks(range(33), xtick, rotation=90);"
   ]
  },
  {
   "cell_type": "markdown",
   "id": "a42e0cf9-769c-4033-9b1a-07c48184f9da",
   "metadata": {},
   "source": [
    "### Idea: \n",
    "map each value from 32 to 64 to -1 to 1 evenly spaced\n",
    "best might be "
   ]
  },
  {
   "cell_type": "code",
   "execution_count": null,
   "id": "e175225e-2aaa-4c65-8db8-4658a1b9449f",
   "metadata": {},
   "outputs": [],
   "source": [
    "np.linspace(-1, 1, num=10)"
   ]
  },
  {
   "cell_type": "code",
   "execution_count": null,
   "id": "ee8768a0-f851-4fe5-9303-66dc4810d093",
   "metadata": {},
   "outputs": [],
   "source": [
    "val_arr = [32, 35, 37, 42, 43, 45, 46, 58, 61, 64]\n",
    "lin = np.linspace(-1, 1, num=10)\n",
    "\n",
    "norm_dic = {}\n",
    "for k, lin in zip(val_arr, lin):\n",
    "    norm_dic[k] = lin\n",
    "norm_dic"
   ]
  }
 ],
 "metadata": {
  "kernelspec": {
   "display_name": "Python 3 (ipykernel)",
   "language": "python",
   "name": "python3"
  },
  "language_info": {
   "codemirror_mode": {
    "name": "ipython",
    "version": 3
   },
   "file_extension": ".py",
   "mimetype": "text/x-python",
   "name": "python",
   "nbconvert_exporter": "python",
   "pygments_lexer": "ipython3",
   "version": "3.12.2"
  }
 },
 "nbformat": 4,
 "nbformat_minor": 5
}
